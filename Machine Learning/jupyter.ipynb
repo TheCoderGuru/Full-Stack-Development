{
 "cells": [
  {
   "cell_type": "code",
   "execution_count": null,
   "metadata": {},
   "outputs": [],
   "source": [
    "import pandas as pd\n",
    "from sklearn.tree import DecisionTreeClassifier\n",
    "from sklearn.model_selection import train_test_split\n",
    "from sklearn.metrics import accuracy_score\n",
    "from sklearn import tree\n",
    "\n",
    "music_data = pd.read_csv( 'music.csv' )\n",
    "X = music_data.drop( columns = [ 'genre' ] )\n",
    "y = music_data[ 'genre' ]\n",
    "X_train, X_test, y_train, y_test = train_test_split( X, y, test_size = 0.2 )\n",
    "\n",
    "model = DecisionTreeClassifier()\n",
    "model.fit( X_train, y_train )\n",
    "\n",
    "tree.export_graphviz( model, out_file = 'music-recommender.dot', feature_names = [ 'age', \n",
    "                                                                                 'gender'], class_names = sorted( y.unique() ), label = 'all', rounded = True, filled = True )\n",
    "predictions = model.predict( X_test )\n",
    "\n",
    "score = accuracy_score( y_test, predictions )\n",
    "score"
   ]
  }
 ],
 "metadata": {
  "language_info": {
   "name": "plaintext"
  },
  "orig_nbformat": 4
 },
 "nbformat": 4,
 "nbformat_minor": 2
}
